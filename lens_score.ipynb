{
 "cells": [
  {
   "cell_type": "code",
   "execution_count": null,
   "id": "initial_id",
   "metadata": {
    "ExecuteTime": {
     "end_time": "2024-05-17T23:05:37.678027Z",
     "start_time": "2024-05-17T23:05:35.992061Z"
    },
    "collapsed": true
   },
   "outputs": [],
   "source": [
    "import lens\n",
    "from lens.lens_score import LENS"
   ]
  },
  {
   "cell_type": "code",
   "execution_count": null,
   "id": "daa9a79867d775cb",
   "metadata": {
    "ExecuteTime": {
     "end_time": "2024-05-17T23:05:37.681538Z",
     "start_time": "2024-05-17T23:05:37.679240Z"
    }
   },
   "outputs": [],
   "source": [
    "# download from https://github.com/Yao-Dou/LENS\n",
    "model_path = 'LENS-checkpoint/LENS/checkpoints/epoch=5-step=6102.ckpt'"
   ]
  },
  {
   "cell_type": "code",
   "execution_count": null,
   "id": "2f59d68bfa64c0e1",
   "metadata": {
    "ExecuteTime": {
     "end_time": "2024-05-17T23:05:40.276558Z",
     "start_time": "2024-05-17T23:05:37.682274Z"
    }
   },
   "outputs": [],
   "source": [
    "metric = LENS(model_path, rescale=True)"
   ]
  },
  {
   "cell_type": "code",
   "execution_count": null,
   "id": "406f548c72203a93",
   "metadata": {
    "ExecuteTime": {
     "end_time": "2024-05-17T23:39:13.672281Z",
     "start_time": "2024-05-17T23:39:13.669567Z"
    }
   },
   "outputs": [],
   "source": [
    "snt_path = 'data/simpletext_task3_2024_test_all_results_llama3_cot.csv'"
   ]
  },
  {
   "cell_type": "code",
   "execution_count": null,
   "id": "2e27aa00d0f67894",
   "metadata": {
    "ExecuteTime": {
     "end_time": "2024-05-17T23:39:15.521516Z",
     "start_time": "2024-05-17T23:39:15.518214Z"
    }
   },
   "outputs": [],
   "source": [
    "import pandas as pd\n",
    "import matplotlib.pyplot as plt"
   ]
  },
  {
   "cell_type": "code",
   "execution_count": null,
   "id": "e33d9677caec4564",
   "metadata": {
    "ExecuteTime": {
     "end_time": "2024-05-17T23:39:32.699877Z",
     "start_time": "2024-05-17T23:39:32.667039Z"
    }
   },
   "outputs": [],
   "source": [
    "snt_df = pd.read_csv(snt_path)"
   ]
  },
  {
   "cell_type": "code",
   "execution_count": null,
   "id": "5ad2b3182cee57f6",
   "metadata": {
    "ExecuteTime": {
     "end_time": "2024-05-17T23:39:33.657575Z",
     "start_time": "2024-05-17T23:39:33.650252Z"
    }
   },
   "outputs": [],
   "source": [
    "snt_df.head()"
   ]
  },
  {
   "cell_type": "code",
   "execution_count": null,
   "id": "6d06f8328a56796",
   "metadata": {
    "ExecuteTime": {
     "end_time": "2024-05-17T23:08:00.761937Z",
     "start_time": "2024-05-17T23:08:00.758660Z"
    }
   },
   "outputs": [],
   "source": [
    "def get_scores(df, column_to_assess, metric, simple_columns):\n",
    "    simple = df[column_to_assess].tolist()\n",
    "    complex = df['source_snt'].tolist()\n",
    "    reference_columns = [col for col in simple_columns if col != column_to_assess]\n",
    "    references = [[row[ref] for ref in reference_columns] for _, row in df.iterrows()]\n",
    "\n",
    "    scores = metric.score(complex, simple, references, batch_size=64)\n",
    "    return scores"
   ]
  },
  {
   "cell_type": "code",
   "execution_count": null,
   "id": "acf5861d08f6b4e8",
   "metadata": {
    "ExecuteTime": {
     "end_time": "2024-05-17T23:50:03.726008Z",
     "start_time": "2024-05-17T23:41:05.709934Z"
    }
   },
   "outputs": [],
   "source": [
    "columns_to_score = ['source_snt', 'cot_simple', 'cot_5yo']\n",
    "ref_columns = columns_to_score.copy()\n",
    "ref_columns.remove('source_snt')\n",
    "for column in columns_to_score:\n",
    "    snt_df[column + '_lens_scores'] = get_scores(snt_df, column, metric, ref_columns)"
   ]
  },
  {
   "cell_type": "code",
   "execution_count": null,
   "id": "78122ac0f90b2cdf",
   "metadata": {
    "ExecuteTime": {
     "end_time": "2024-05-17T23:50:03.744664Z",
     "start_time": "2024-05-17T23:50:03.727012Z"
    }
   },
   "outputs": [],
   "source": [
    "snt_df.to_json(snt_path.replace('.csv', '_lens_scores_new.json'))"
   ]
  }
 ],
 "metadata": {
  "kernelspec": {
   "display_name": "Python 3",
   "language": "python",
   "name": "python3"
  },
  "language_info": {
   "codemirror_mode": {
    "name": "ipython",
    "version": 2
   },
   "file_extension": ".py",
   "mimetype": "text/x-python",
   "name": "python",
   "nbconvert_exporter": "python",
   "pygments_lexer": "ipython2",
   "version": "2.7.6"
  }
 },
 "nbformat": 4,
 "nbformat_minor": 5
}
