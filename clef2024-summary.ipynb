{
 "cells": [
  {
   "cell_type": "code",
   "execution_count": null,
   "id": "6261691cb9b061b9",
   "metadata": {
    "ExecuteTime": {
     "end_time": "2024-05-01T09:14:57.558180Z",
     "start_time": "2024-05-01T09:14:55.267999Z"
    }
   },
   "outputs": [],
   "source": [
    "import pandas as pd\n",
    "import torch\n",
    "from transformers import AutoModelForCausalLM, AutoTokenizer\n",
    "from transformers import BitsAndBytesConfig\n",
    "from transformers import pipeline\n",
    "import pickle\n",
    "import os"
   ]
  },
  {
   "cell_type": "code",
   "execution_count": null,
   "id": "a433ee6049ac0769",
   "metadata": {
    "ExecuteTime": {
     "end_time": "2024-05-01T09:14:57.567945Z",
     "start_time": "2024-05-01T09:14:57.565826Z"
    }
   },
   "outputs": [],
   "source": [
    "HF_API_KEY = os.getenv(\"HF_API_KEY\")"
   ]
  },
  {
   "cell_type": "code",
   "execution_count": null,
   "id": "cddc91f7b3d94e55",
   "metadata": {
    "ExecuteTime": {
     "end_time": "2024-05-01T09:14:57.570983Z",
     "start_time": "2024-05-01T09:14:57.569145Z"
    }
   },
   "outputs": [],
   "source": [
    "base_model_name = \"meta-llama/Meta-Llama-3-8B-Instruct\""
   ]
  },
  {
   "cell_type": "code",
   "execution_count": null,
   "id": "a9df46efb6c133b2",
   "metadata": {
    "ExecuteTime": {
     "end_time": "2024-05-01T09:14:57.573446Z",
     "start_time": "2024-05-01T09:14:57.571761Z"
    }
   },
   "outputs": [],
   "source": [
    "generation_args_default = {\n",
    "    'max_new_tokens': 1024,\n",
    "    'do_sample': True,\n",
    "    'temperature': 0.8,\n",
    "    'top_k': 30,\n",
    "    'top_p': 0.95,\n",
    "    'num_return_sequences': 1\n",
    "}\n",
    "\n",
    "replacements_default = {\n",
    "    'system': {},\n",
    "    'user': {}\n",
    "}"
   ]
  },
  {
   "cell_type": "code",
   "execution_count": null,
   "id": "6869ed3e0e0fcb40",
   "metadata": {
    "ExecuteTime": {
     "end_time": "2024-05-01T09:16:35.504600Z",
     "start_time": "2024-05-01T09:16:35.501920Z"
    }
   },
   "outputs": [],
   "source": [
    "quantization_config = BitsAndBytesConfig(\n",
    "    load_in_8bit=False,\n",
    ")"
   ]
  },
  {
   "cell_type": "code",
   "execution_count": null,
   "id": "431c71812877c3fe",
   "metadata": {
    "ExecuteTime": {
     "end_time": "2024-05-01T09:16:35.875306Z",
     "start_time": "2024-05-01T09:16:35.810860Z"
    }
   },
   "outputs": [],
   "source": [
    "if torch.cuda.is_available():\n",
    "    print(\"GPU available\")\n",
    "else:\n",
    "    print(\"GPU not available\")"
   ]
  },
  {
   "cell_type": "code",
   "execution_count": null,
   "id": "6202879e3f868c44",
   "metadata": {
    "ExecuteTime": {
     "end_time": "2024-05-01T09:16:51.046069Z",
     "start_time": "2024-05-01T09:16:36.087853Z"
    }
   },
   "outputs": [],
   "source": [
    "base_model = AutoModelForCausalLM.from_pretrained(base_model_name,\n",
    "                                                  device_map=\"auto\",\n",
    "                                                  torch_dtype=torch.bfloat16,\n",
    "                                                  trust_remote_code=True,\n",
    "                                                  quantization_config=quantization_config,\n",
    "                                                  token=HF_API_KEY\n",
    "                                                  )"
   ]
  },
  {
   "cell_type": "code",
   "execution_count": null,
   "id": "bec81d1a82c3db40",
   "metadata": {
    "ExecuteTime": {
     "end_time": "2024-05-01T09:16:51.555875Z",
     "start_time": "2024-05-01T09:16:51.047057Z"
    }
   },
   "outputs": [],
   "source": [
    "tokenizer = AutoTokenizer.from_pretrained(base_model_name, use_fast=True, trust_remote_code=True, token=HF_API_KEY)\n",
    "tokenizer.pad_token = tokenizer.eos_token"
   ]
  },
  {
   "cell_type": "code",
   "execution_count": null,
   "id": "acb438e617403ed6",
   "metadata": {
    "ExecuteTime": {
     "end_time": "2024-05-01T09:16:51.558805Z",
     "start_time": "2024-05-01T09:16:51.556488Z"
    }
   },
   "outputs": [],
   "source": [
    "pipe = pipeline(\"text-generation\", model=base_model, tokenizer=tokenizer, torch_dtype=torch.bfloat16, device_map=\"auto\")"
   ]
  },
  {
   "cell_type": "code",
   "execution_count": null,
   "id": "db53388eb8fd4791",
   "metadata": {
    "ExecuteTime": {
     "end_time": "2024-05-01T09:22:47.258028Z",
     "start_time": "2024-05-01T09:22:47.254301Z"
    }
   },
   "outputs": [],
   "source": [
    "def generate_batch(pipe, data_loader, message_template, generation_args=generation_args_default, replacements=replacements_default, keys=['source_snt']):\n",
    "    results = []\n",
    "    for batch in data_loader:\n",
    "        abstracts = batch[keys[0]]\n",
    "        generated_texts = []\n",
    "        for i, abstract in enumerate(abstracts):\n",
    "            try:\n",
    "                replacements['user'][keys[0]] = abstract\n",
    "                if 'args' in replacements.keys():\n",
    "                    for key, value in replacements['args'].items():\n",
    "                        replacements['user'][key] = value[i]\n",
    "                _user_prompt = message_template[1]['content'].format_map(replacements['user'])\n",
    "                _system_prompt = message_template[0]['content'].format_map(replacements['system'])\n",
    "                messages = [\n",
    "                    {\"role\": \"system\", \"content\": _system_prompt},\n",
    "                    {\"role\": \"user\", \"content\": _user_prompt}\n",
    "                ]\n",
    "                prompt = pipe.tokenizer.apply_chat_template(messages, tokenize=False, add_generation_prompt=True)\n",
    "                \n",
    "                terminators = [\n",
    "                    pipe.tokenizer.eos_token_id,\n",
    "                    pipe.tokenizer.convert_tokens_to_ids(\"<|eot_id|>\")\n",
    "                ]\n",
    "                \n",
    "                output = pipe(\n",
    "                    prompt,\n",
    "                    max_new_tokens=generation_args['max_new_tokens'],\n",
    "                    do_sample=generation_args['do_sample'],\n",
    "                    temperature=generation_args['temperature'],\n",
    "                    top_k=generation_args['top_k'],\n",
    "                    top_p=generation_args['top_p'],\n",
    "                    num_return_sequences=generation_args['num_return_sequences'],\n",
    "                    eos_token_id=terminators\n",
    "                )\n",
    "                generated_texts.append(output[0]['generated_text'][len(prompt):])\n",
    "            except Exception as e:\n",
    "                print(f\"Error: {e} for abstract {i}\")\n",
    "                generated_texts.append('')\n",
    "        results.extend(generated_texts)\n",
    "    return results\n"
   ]
  },
  {
   "cell_type": "code",
   "execution_count": null,
   "id": "3e3d6dab5cb4f895",
   "metadata": {
    "ExecuteTime": {
     "end_time": "2024-05-01T09:16:51.565704Z",
     "start_time": "2024-05-01T09:16:51.563671Z"
    }
   },
   "outputs": [],
   "source": [
    "message = [\n",
    "    {\n",
    "        \"role\": \"system\",\n",
    "        \"content\": \"As a text simplification assistant, your task is to convert complex scientific sentences into simpler, easier-to-understand language. Focus on reducing vocabulary complexity and simplifying syntax without losing the sentence's original intent and accuracy. Return only the simplified sentence, without any additional information.\"\n",
    "    },\n",
    "    {\n",
    "        \"role\": \"user\",\n",
    "        \"content\": \"Simplify the following sentence from a scientific abstract: {source_snt}. Ensure the simplification is clear, avoids technical jargon, and maintains the original meaning. Simplified Sentence:\"\n",
    "    }\n",
    "]"
   ]
  },
  {
   "cell_type": "markdown",
   "id": "4d316d9253266f32",
   "metadata": {},
   "source": [
    "# Dataset"
   ]
  },
  {
   "cell_type": "code",
   "execution_count": null,
   "id": "7213fdb4d78427a4",
   "metadata": {
    "ExecuteTime": {
     "end_time": "2024-05-01T09:16:51.568187Z",
     "start_time": "2024-05-01T09:16:51.566260Z"
    }
   },
   "outputs": [],
   "source": [
    "from torch.utils.data import Dataset, DataLoader\n",
    "\n",
    "class TextSimplificationDataset(Dataset):\n",
    "    def __init__(self, dataframe):\n",
    "        self.dataframe = dataframe\n",
    "\n",
    "    def __len__(self):\n",
    "        return len(self.dataframe)\n",
    "\n",
    "    def __getitem__(self, idx):\n",
    "        return self.dataframe.iloc[idx].to_dict()"
   ]
  },
  {
   "cell_type": "markdown",
   "id": "a16a188cce0ef7bf",
   "metadata": {},
   "source": [
    "# load test data"
   ]
  },
  {
   "cell_type": "code",
   "execution_count": null,
   "id": "ca0718b8751aef63",
   "metadata": {
    "ExecuteTime": {
     "end_time": "2024-05-01T09:16:51.580749Z",
     "start_time": "2024-05-01T09:16:51.568750Z"
    }
   },
   "outputs": [],
   "source": [
    "# download the data from https://simpletext-project.com/\n",
    "path = 'data/task3/test/simpletext_task3_test_qrels_distinct.json'\n",
    "test = pd.read_json(path)\n",
    "\n",
    "print(test.shape)\n",
    "test.head()"
   ]
  },
  {
   "cell_type": "code",
   "execution_count": null,
   "id": "c8dbabba85906a0f",
   "metadata": {
    "ExecuteTime": {
     "end_time": "2024-05-01T09:16:51.583563Z",
     "start_time": "2024-05-01T09:16:51.581415Z"
    }
   },
   "outputs": [],
   "source": [
    "dataset = TextSimplificationDataset(test.head(1))\n",
    "data_loader = DataLoader(dataset, batch_size=1, shuffle=False)\n",
    "\n",
    "print(len(data_loader))"
   ]
  },
  {
   "cell_type": "code",
   "execution_count": null,
   "id": "c32148cf58e7c5ad",
   "metadata": {
    "ExecuteTime": {
     "end_time": "2024-05-01T09:16:52.737605Z",
     "start_time": "2024-05-01T09:16:51.584104Z"
    }
   },
   "outputs": [],
   "source": [
    "outputs = generate_batch(pipe, data_loader, message)\n",
    "print(outputs)\n",
    "test.loc[0, 'simplified_llama3'] = outputs[0]"
   ]
  },
  {
   "cell_type": "code",
   "execution_count": null,
   "id": "fabd94a953f5db2f",
   "metadata": {
    "ExecuteTime": {
     "end_time": "2024-05-01T09:16:52.744342Z",
     "start_time": "2024-05-01T09:16:52.739327Z"
    }
   },
   "outputs": [],
   "source": [
    "test.head()"
   ]
  },
  {
   "cell_type": "markdown",
   "id": "f8360dac88df6807",
   "metadata": {},
   "source": [
    "# explain difficult words"
   ]
  },
  {
   "cell_type": "code",
   "execution_count": null,
   "id": "103f040459505866",
   "metadata": {
    "ExecuteTime": {
     "end_time": "2024-05-01T09:16:52.747321Z",
     "start_time": "2024-05-01T09:16:52.745152Z"
    }
   },
   "outputs": [],
   "source": [
    "test_dataset = TextSimplificationDataset(test.head(1))\n",
    "test_data_loader = DataLoader(test_dataset, batch_size=1, shuffle=False)"
   ]
  },
  {
   "cell_type": "code",
   "execution_count": null,
   "id": "4e6cc4533d675c7d",
   "metadata": {
    "ExecuteTime": {
     "end_time": "2024-05-01T09:16:52.749848Z",
     "start_time": "2024-05-01T09:16:52.747919Z"
    }
   },
   "outputs": [],
   "source": [
    "identification_message = [{\n",
    "    \"role\": \"system\",\n",
    "    \"content\": \"Identify up to five terms in the following scientific sentence that require explanation to enhance understanding for a general reader. Focus on selecting highly technical or highly specialized terms that are integral to the sentence's meaning. If there is nothing to explain provide and empty return. Return only the identified terms, without any additional information.\"\n",
    "},\n",
    "{\n",
    "    \"role\": \"user\",\n",
    "    \"content\": \"Decide which terms require explanation in the context of this sentence: {source_snt}. Identified terms:\"\n",
    "}]"
   ]
  },
  {
   "cell_type": "code",
   "execution_count": null,
   "id": "d56a884d119c8f33",
   "metadata": {
    "ExecuteTime": {
     "end_time": "2024-05-01T09:16:53.466346Z",
     "start_time": "2024-05-01T09:16:52.750373Z"
    }
   },
   "outputs": [],
   "source": [
    "difficult_words = generate_batch(pipe, test_data_loader, identification_message)\n",
    "print(difficult_words)"
   ]
  },
  {
   "cell_type": "code",
   "execution_count": null,
   "id": "8f791b731b2dcdf9",
   "metadata": {
    "ExecuteTime": {
     "end_time": "2024-05-01T09:16:53.469549Z",
     "start_time": "2024-05-01T09:16:53.467212Z"
    }
   },
   "outputs": [],
   "source": [
    "import ast\n",
    "difficult_words = ast.literal_eval(difficult_words[0])\n",
    "print(difficult_words)"
   ]
  },
  {
   "cell_type": "code",
   "execution_count": null,
   "id": "b2d4be918f9407e1",
   "metadata": {
    "ExecuteTime": {
     "end_time": "2024-05-01T09:16:53.472478Z",
     "start_time": "2024-05-01T09:16:53.470284Z"
    }
   },
   "outputs": [],
   "source": [
    "difficult_words = ', '.join(difficult_words)\n",
    "print(difficult_words)"
   ]
  },
  {
   "cell_type": "code",
   "execution_count": null,
   "id": "380499b9f52638a6",
   "metadata": {
    "ExecuteTime": {
     "end_time": "2024-05-01T09:16:53.474846Z",
     "start_time": "2024-05-01T09:16:53.473224Z"
    }
   },
   "outputs": [],
   "source": [
    "definition_message = [{\n",
    "    \"role\": \"system\",\n",
    "    \"content\": \"Provide a short, one or two sentence explanation for each of the difficult terms identified. Ensure the definitions are concise and contextualized within the scope of the sentence. Return only the definition for each of the terms, without any additional text or information.\"\n",
    "},\n",
    "{\n",
    "    \"role\": \"user\",\n",
    "    \"content\": \"Provide explanations for these terms: \\\"{terms}\\\" in the context of this sentence: {source_snt}. Definitions:\"\n",
    "}]"
   ]
  },
  {
   "cell_type": "code",
   "execution_count": null,
   "id": "ca1ac0dd31cb22a3",
   "metadata": {
    "ExecuteTime": {
     "end_time": "2024-05-01T09:16:53.476870Z",
     "start_time": "2024-05-01T09:16:53.475409Z"
    }
   },
   "outputs": [],
   "source": [
    "replacements_definitions = {\n",
    "    'system': {},\n",
    "    'user': {},\n",
    "    'args': {'terms': [difficult_words]}\n",
    "}"
   ]
  },
  {
   "cell_type": "code",
   "execution_count": null,
   "id": "4dafa507b41ad9d",
   "metadata": {
    "ExecuteTime": {
     "end_time": "2024-05-01T09:16:56.218420Z",
     "start_time": "2024-05-01T09:16:53.477403Z"
    }
   },
   "outputs": [],
   "source": [
    "definitions = generate_batch(pipe, test_data_loader, definition_message, replacements=replacements_definitions)\n",
    "print(definitions)"
   ]
  },
  {
   "cell_type": "code",
   "execution_count": null,
   "id": "56156ae044c98654",
   "metadata": {
    "ExecuteTime": {
     "end_time": "2024-05-01T09:16:56.222031Z",
     "start_time": "2024-05-01T09:16:56.219150Z"
    }
   },
   "outputs": [],
   "source": [
    "simplification_message = [{\n",
    "    \"role\": \"system\",\n",
    "    \"content\": \"Given the explanations provided for the identified terms, simplify the original sentence. Incorporate the definitions to make the sentence clearer and more accessible while maintaining its original meaning. Write a coherent sentence embedding the definition. Return only the simplified sentence, without any additional text or information.\"\n",
    "},\n",
    "{\n",
    "    \"role\": \"user\",\n",
    "    \"content\": \"Simplify this sentence incorporating the provided definitions into a coherent text. Definitions: \\\"{definitions}\\\", original sentence: {source_snt}. Simplified Sentence incorporating the definitions:\"\n",
    "}]"
   ]
  },
  {
   "cell_type": "code",
   "execution_count": null,
   "id": "c0d787e519516410",
   "metadata": {
    "ExecuteTime": {
     "end_time": "2024-05-01T09:16:56.224418Z",
     "start_time": "2024-05-01T09:16:56.222610Z"
    }
   },
   "outputs": [],
   "source": [
    "replacement_simplification = {\n",
    "    'system': {},\n",
    "    'user': {},\n",
    "    'args': {'definitions': definitions}\n",
    "}"
   ]
  },
  {
   "cell_type": "code",
   "execution_count": null,
   "id": "46b3f56a95e89af",
   "metadata": {
    "ExecuteTime": {
     "end_time": "2024-05-01T09:16:57.972108Z",
     "start_time": "2024-05-01T09:16:56.224994Z"
    }
   },
   "outputs": [],
   "source": [
    "simplifications = generate_batch(pipe, test_data_loader, simplification_message, replacements=replacement_simplification)\n",
    "print(simplifications)"
   ]
  },
  {
   "cell_type": "markdown",
   "id": "469bd652610c2f49",
   "metadata": {},
   "source": [
    "# distort output"
   ]
  },
  {
   "cell_type": "code",
   "execution_count": null,
   "id": "4b8cd551c48835e6",
   "metadata": {
    "ExecuteTime": {
     "end_time": "2024-05-01T09:16:57.975528Z",
     "start_time": "2024-05-01T09:16:57.972836Z"
    }
   },
   "outputs": [],
   "source": [
    "distortion_message = [\n",
    "    {\n",
    "        \"role\": \"system\",\n",
    "        \"content\": \"As a text manipulation assistant, your task is to modify simplified scientific sentences by introducing grammatical errors and disfluencies. The goal is to subtly alter the syntax and insert errors without completely distorting the overall meaning of the text. Return only the altered sentence, without any additional information.\"\n",
    "    },\n",
    "    {\n",
    "        \"role\": \"user\",\n",
    "        \"content\": \"Modify the following simplified sentence from a scientific abstract to include grammatical errors and disfluency: {simplified_llama3}. Altered Sentence:\"\n",
    "    }\n",
    "]"
   ]
  },
  {
   "cell_type": "code",
   "execution_count": null,
   "id": "7ebabe94ecf417e2",
   "metadata": {
    "ExecuteTime": {
     "end_time": "2024-05-01T09:16:57.978357Z",
     "start_time": "2024-05-01T09:16:57.976447Z"
    }
   },
   "outputs": [],
   "source": [
    "replacement_distortion = {\n",
    "    'system': {},\n",
    "    'user': {}\n",
    "}"
   ]
  },
  {
   "cell_type": "code",
   "execution_count": null,
   "id": "e09b79fca5de29c6",
   "metadata": {
    "ExecuteTime": {
     "end_time": "2024-05-01T09:16:57.981802Z",
     "start_time": "2024-05-01T09:16:57.979066Z"
    }
   },
   "outputs": [],
   "source": [
    "for batch in test_data_loader:\n",
    "    print(batch.keys())"
   ]
  },
  {
   "cell_type": "code",
   "execution_count": null,
   "id": "47378ce9d4bf49aa",
   "metadata": {
    "ExecuteTime": {
     "end_time": "2024-05-01T09:16:58.950368Z",
     "start_time": "2024-05-01T09:16:57.982409Z"
    }
   },
   "outputs": [],
   "source": [
    "distorted_simplifications = generate_batch(pipe, test_data_loader, distortion_message, keys=['simplified_llama3'], replacements=replacement_distortion)\n",
    "print(distorted_simplifications)"
   ]
  },
  {
   "cell_type": "markdown",
   "id": "f31881cd5eb1c9aa",
   "metadata": {},
   "source": [
    "# Put it all together"
   ]
  },
  {
   "cell_type": "code",
   "execution_count": null,
   "id": "5b8ed13f9b1ae836",
   "metadata": {
    "ExecuteTime": {
     "end_time": "2024-04-30T11:39:57.310413Z",
     "start_time": "2024-04-30T11:39:56.933132Z"
    }
   },
   "outputs": [],
   "source": [
    "difficult_words = generate_batch(pipe, data_loader, identification_message)\n",
    "print(difficult_words)\n",
    "difficult_words = [ast.literal_eval(words) for words in difficult_words]\n",
    "print(difficult_words)\n",
    "#data['difficult_words'] = difficult_words\n",
    "difficult_words = [', '.join(words) for words in difficult_words]\n",
    "print(difficult_words)"
   ]
  },
  {
   "cell_type": "code",
   "execution_count": null,
   "id": "f9010ffe0898197e",
   "metadata": {
    "ExecuteTime": {
     "end_time": "2024-05-01T09:47:14.067392Z",
     "start_time": "2024-05-01T09:47:14.063764Z"
    }
   },
   "outputs": [],
   "source": [
    "def create_dataframe(data, batch_size=64):\n",
    "    dataset = TextSimplificationDataset(data)\n",
    "    data_loader = DataLoader(dataset, batch_size=batch_size, shuffle=False)\n",
    "    \n",
    "    # generate simplified sentences\n",
    "    simplifications = generate_batch(pipe, data_loader, message)\n",
    "    data.loc[:, 'simplified_llama3'] = simplifications\n",
    "    \n",
    "    # identify difficult words\n",
    "    difficult_words = generate_batch(pipe, data_loader, identification_message)\n",
    "    difficult_words = [words.replace('[', '').replace(']', '') for words in difficult_words]\n",
    "    data.loc[:, 'difficult_words'] = difficult_words\n",
    "    \n",
    "    # get definitions\n",
    "    replacements_definitions = {\n",
    "        'system': {},\n",
    "        'user': {},\n",
    "        'args': {'terms': difficult_words}\n",
    "    }\n",
    "    definitions = generate_batch(pipe, data_loader, definition_message, replacements=replacements_definitions)\n",
    "    data.loc[:, 'definitions'] = definitions\n",
    "    \n",
    "    # simplify sentences\n",
    "    replacement_simplification = {\n",
    "        'system': {},\n",
    "        'user': {},\n",
    "        'args': {'definitions': definitions}\n",
    "    }\n",
    "    simplifications = generate_batch(pipe, data_loader, simplification_message, replacements=replacement_simplification)\n",
    "    data.loc[:, 'simplified_llama3_definitions'] = simplifications\n",
    "    \n",
    "    # distort output\n",
    "    distorted_simplifications = generate_batch(pipe, data_loader, distortion_message, keys=['simplified_llama3'])\n",
    "    data.loc[:, 'distorted_simplified_llama3'] = distorted_simplifications\n",
    "    \n",
    "    return data"
   ]
  },
  {
   "cell_type": "code",
   "execution_count": null,
   "id": "f3a2d14f23b28270",
   "metadata": {
    "ExecuteTime": {
     "end_time": "2024-04-30T12:19:26.077573Z",
     "start_time": "2024-04-30T12:03:27.025545Z"
    }
   },
   "outputs": [],
   "source": [
    "path = 'data/task3/test/simpletext_task3_test_qrels_distinct_all_results_llama3.json'\n",
    "test = create_dataframe(test)\n",
    "test.to_json(path)\n",
    "\n",
    "print(test.shape)\n",
    "test.head()"
   ]
  },
  {
   "cell_type": "markdown",
   "id": "bd4bfa46ddc3227c",
   "metadata": {},
   "source": [
    "# 2024 dataset"
   ]
  },
  {
   "cell_type": "code",
   "execution_count": null,
   "id": "723434a296a423d4",
   "metadata": {
    "ExecuteTime": {
     "end_time": "2024-05-01T09:16:58.966989Z",
     "start_time": "2024-05-01T09:16:58.952026Z"
    }
   },
   "outputs": [],
   "source": [
    "# download the data from https://simpletext-project.com/\n",
    "path = 'data/llama3/task 3-2024/task 3/test/'\n",
    "\n",
    "test_snt = pd.read_json(path + 'simpletext_task3_2024_test_snt_source.json')\n",
    "test_abs = pd.read_json(path + 'simpletext_task3_2024_test_abs_source.json')"
   ]
  },
  {
   "cell_type": "code",
   "execution_count": null,
   "id": "4a7c7a289beaffa8",
   "metadata": {
    "ExecuteTime": {
     "end_time": "2024-05-01T09:16:58.971845Z",
     "start_time": "2024-05-01T09:16:58.967607Z"
    }
   },
   "outputs": [],
   "source": [
    "print(test_snt.shape)\n",
    "test_snt.head()"
   ]
  },
  {
   "cell_type": "code",
   "execution_count": null,
   "id": "7f3df3024d7aa98a",
   "metadata": {
    "ExecuteTime": {
     "end_time": "2024-05-01T09:43:08.354639Z",
     "start_time": "2024-05-01T09:43:08.349031Z"
    }
   },
   "outputs": [],
   "source": [
    "# check if there are any missing values\n",
    "print(test_snt.isnull().sum())\n",
    "# check if any values are none\n",
    "print(test_snt.isna().sum())\n",
    "# check in the column 'source_snt' if there are any '' values\n",
    "print(test_snt['source_snt'].apply(lambda x: x == None).sum())"
   ]
  },
  {
   "cell_type": "code",
   "execution_count": null,
   "id": "63cb19d9b9c57ca1",
   "metadata": {
    "ExecuteTime": {
     "end_time": "2024-05-01T15:32:08.122014Z",
     "start_time": "2024-05-01T09:47:18.992643Z"
    }
   },
   "outputs": [],
   "source": [
    "data_snt_2024 = create_dataframe(test_snt, batch_size=len(test_snt))"
   ]
  },
  {
   "cell_type": "code",
   "execution_count": null,
   "id": "545bd20ef8aad84d",
   "metadata": {
    "ExecuteTime": {
     "end_time": "2024-05-01T17:17:53.751766Z",
     "start_time": "2024-05-01T17:17:53.747462Z"
    }
   },
   "outputs": [],
   "source": [
    "data_snt_2024.head()"
   ]
  },
  {
   "cell_type": "code",
   "execution_count": null,
   "id": "f562f789a9c87785",
   "metadata": {
    "ExecuteTime": {
     "end_time": "2024-05-01T15:32:08.137778Z",
     "start_time": "2024-05-01T15:32:08.123106Z"
    }
   },
   "outputs": [],
   "source": [
    "# save\n",
    "path = 'data/llama3/task 3-2024/task 3/test/simpletext_task3_2024_test_snt_source_all_results_llama3.json'\n",
    "data_snt_2024.to_json(path)"
   ]
  },
  {
   "cell_type": "markdown",
   "id": "7537b7f49e5c9612",
   "metadata": {},
   "source": [
    "# Abstracts"
   ]
  },
  {
   "cell_type": "code",
   "execution_count": null,
   "id": "fe9332e05ffe88b0",
   "metadata": {
    "ExecuteTime": {
     "end_time": "2024-05-01T15:32:08.142657Z",
     "start_time": "2024-05-01T15:32:08.138518Z"
    }
   },
   "outputs": [],
   "source": [
    "print(test_abs.shape)\n",
    "test_abs.head()"
   ]
  },
  {
   "cell_type": "code",
   "execution_count": null,
   "id": "3cb1b468915e8b0e",
   "metadata": {
    "ExecuteTime": {
     "end_time": "2024-05-01T15:32:08.145943Z",
     "start_time": "2024-05-01T15:32:08.143694Z"
    }
   },
   "outputs": [],
   "source": [
    "# rename column abs_source to source_snt\n",
    "test_abs.rename(columns={'abs_source': 'source_snt'}, inplace=True)"
   ]
  },
  {
   "cell_type": "code",
   "execution_count": null,
   "id": "dbc0e14e25f7418c",
   "metadata": {
    "ExecuteTime": {
     "end_time": "2024-05-01T15:32:08.152207Z",
     "start_time": "2024-05-01T15:32:08.146664Z"
    }
   },
   "outputs": [],
   "source": [
    "# find the size of the longest text in words in the column 'source_snt'\n",
    "max_len = test_abs['source_snt'].apply(lambda x: len(x.split())).max()\n",
    "print(max_len)"
   ]
  },
  {
   "cell_type": "code",
   "execution_count": null,
   "id": "8f92451bed1acb49",
   "metadata": {
    "ExecuteTime": {
     "end_time": "2024-05-01T17:17:53.734515Z",
     "start_time": "2024-05-01T15:32:08.152842Z"
    }
   },
   "outputs": [],
   "source": [
    "data_abs = create_dataframe(test_abs, batch_size=len(test_abs))"
   ]
  },
  {
   "cell_type": "code",
   "execution_count": null,
   "id": "ccc37d8e48e777d2",
   "metadata": {
    "ExecuteTime": {
     "end_time": "2024-05-01T17:17:53.740877Z",
     "start_time": "2024-05-01T17:17:53.735298Z"
    }
   },
   "outputs": [],
   "source": [
    "path = 'data/llama3/task 3-2024/task 3/test/simpletext_task3_2024_test_abs_source_all_results_llama3.json'\n",
    "data_abs.to_json(path)"
   ]
  },
  {
   "cell_type": "code",
   "execution_count": null,
   "id": "607a3bb5fb8ef0da",
   "metadata": {
    "ExecuteTime": {
     "end_time": "2024-05-01T17:17:53.746751Z",
     "start_time": "2024-05-01T17:17:53.741357Z"
    }
   },
   "outputs": [],
   "source": [
    "data_abs.head()"
   ]
  }
 ],
 "metadata": {
  "kernelspec": {
   "display_name": "Python 3",
   "language": "python",
   "name": "python3"
  },
  "language_info": {
   "codemirror_mode": {
    "name": "ipython",
    "version": 2
   },
   "file_extension": ".py",
   "mimetype": "text/x-python",
   "name": "python",
   "nbconvert_exporter": "python",
   "pygments_lexer": "ipython2",
   "version": "2.7.6"
  }
 },
 "nbformat": 4,
 "nbformat_minor": 5
}
